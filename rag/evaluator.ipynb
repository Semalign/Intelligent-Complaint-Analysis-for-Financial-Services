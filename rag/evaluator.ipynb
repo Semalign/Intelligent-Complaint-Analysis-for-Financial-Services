{
 "cells": [
  {
   "cell_type": "code",
   "execution_count": null,
   "id": "6674fb37",
   "metadata": {},
   "outputs": [],
   "source": [
    "from rag.rag_pipeline import RAGPipeline\n",
    "import pandas as pd\n",
    "\n",
    "pipeline = RAGPipeline(\"vector_store/faiss_index.index\", \"vector_store/metadata.pkl\")\n",
    "\n",
    "test_questions = [\n",
    "    \"Why are users unhappy with BNPL services?\",\n",
    "    \"What issues are reported with money transfers?\",\n",
    "    \"Which companies have repeated credit card complaints?\",\n",
    "    \"What problems are reported around personal loans?\",\n",
    "    \"Any complaints about savings account access delays?\"\n",
    "]\n",
    "\n",
    "results = []\n",
    "for q in test_questions:\n",
    "    answer, sources = pipeline.query(q)\n",
    "    results.append({\n",
    "        \"Question\": q,\n",
    "        \"Generated Answer\": answer,\n",
    "        \"Sample Source\": sources[0][\"text\"][:200],\n",
    "        \"Score (1–5)\": \"\",  # Fill during review\n",
    "        \"Comment\": \"\"       # Optional notes\n",
    "    })\n",
    "\n",
    "df_eval = pd.DataFrame(results)\n",
    "df_eval.to_csv(\"evaluation_results.csv\", index=False)"
   ]
  }
 ],
 "metadata": {
  "language_info": {
   "name": "python"
  }
 },
 "nbformat": 4,
 "nbformat_minor": 5
}
