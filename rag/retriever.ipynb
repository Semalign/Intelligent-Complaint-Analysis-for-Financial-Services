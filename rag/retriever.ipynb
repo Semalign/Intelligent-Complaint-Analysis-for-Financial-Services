{
 "cells": [
  {
   "cell_type": "code",
   "execution_count": 2,
   "id": "a9cadecf",
   "metadata": {},
   "outputs": [],
   "source": [
    "import pickle\n",
    "import faiss\n",
    "import numpy as np\n",
    "\n",
    "class ComplaintRetriever:\n",
    "    def __init__(self, index_path, metadata_path, embed_model):\n",
    "        self.index = faiss.read_index(index_path)\n",
    "        with open(metadata_path, \"rb\") as f:\n",
    "            self.metadata = pickle.load(f)\n",
    "        self.embed_model = embed_model\n",
    "\n",
    "    def retrieve(self, query, k=5):\n",
    "        query_vec = self.embed_model.encode([query])\n",
    "        distances, indices = self.index.search(query_vec, k)\n",
    "        results = [self.metadata[i] for i in indices[0]]\n",
    "        return results\n"
   ]
  },
  {
   "cell_type": "code",
   "execution_count": null,
   "id": "1c129f82",
   "metadata": {},
   "outputs": [],
   "source": [
    "from sentence_transformers import SentenceTransformer\n",
    "from rag.retriever import ComplaintRetriever\n",
    "from rag.generator import ComplaintGenerator\n",
    "\n",
    "class RAGPipeline:\n",
    "    def __init__(self, index_path, metadata_path):\n",
    "        self.embedder = SentenceTransformer(\"all-MiniLM-L6-v2\")\n",
    "        self.retriever = ComplaintRetriever(index_path, metadata_path, self.embedder)\n",
    "        self.generator = ComplaintGenerator()\n",
    "\n",
    "    def query(self, question):\n",
    "        chunks = self.retriever.retrieve(question)\n",
    "        answer = self.generator.generate_answer(chunks, question)\n",
    "        return answer, chunks"
   ]
  },
  {
   "cell_type": "code",
   "execution_count": null,
   "id": "c7c7401c",
   "metadata": {},
   "outputs": [],
   "source": []
  }
 ],
 "metadata": {
  "language_info": {
   "name": "python"
  }
 },
 "nbformat": 4,
 "nbformat_minor": 5
}
