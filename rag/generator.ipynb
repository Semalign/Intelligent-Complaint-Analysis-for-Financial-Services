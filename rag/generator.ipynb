{
 "cells": [
  {
   "cell_type": "code",
   "execution_count": 2,
   "id": "77da1924",
   "metadata": {},
   "outputs": [],
   "source": [
    "from transformers import pipeline\n",
    "\n",
    "class ComplaintGenerator:\n",
    "    def __init__(self):\n",
    "        self.generator = pipeline(\"text-generation\", model=\"mistralai/Mistral-7B-Instruct-v0.2\", device=0)\n",
    "\n",
    "    def build_prompt(self, context_chunks, question):\n",
    "        context = \"\\n\\n\".join(chunk[\"text\"] for chunk in context_chunks)\n",
    "        return (\n",
    "            f\"You are a financial analyst assistant for CrediTrust.\\n\"\n",
    "            f\"Use the following complaint excerpts to answer the question.\\n\"\n",
    "            f\"If the context doesn't contain an answer, say so.\\n\\n\"\n",
    "            f\"Context:\\n{context}\\n\\n\"\n",
    "            f\"Question: {question}\\nAnswer:\"\n",
    "        )\n",
    "\n",
    "    def generate_answer(self, context_chunks, question):\n",
    "        prompt = self.build_prompt(context_chunks, question)\n",
    "        result = self.generator(prompt, max_new_tokens=256, do_sample=True)\n",
    "        return result[0]['generated_text'].split(\"Answer:\")[-1].strip()"
   ]
  },
  {
   "cell_type": "code",
   "execution_count": null,
   "id": "92dfd4e0",
   "metadata": {},
   "outputs": [],
   "source": []
  }
 ],
 "metadata": {
  "language_info": {
   "name": "python"
  }
 },
 "nbformat": 4,
 "nbformat_minor": 5
}
