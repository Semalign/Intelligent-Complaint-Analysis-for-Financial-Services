{
 "cells": [
  {
   "cell_type": "code",
   "execution_count": null,
   "id": "557c83c0",
   "metadata": {},
   "outputs": [],
   "source": [
    "from sentence_transformers import SentenceTransformer\n",
    "from rag.retriever import ComplaintRetriever\n",
    "from rag.generator import ComplaintGenerator\n",
    "\n",
    "class RAGPipeline:\n",
    "    def __init__(self, index_path, metadata_path):\n",
    "        self.embedder = SentenceTransformer(\"all-MiniLM-L6-v2\")\n",
    "        self.retriever = ComplaintRetriever(index_path, metadata_path, self.embedder)\n",
    "        self.generator = ComplaintGenerator()\n",
    "\n",
    "    def query(self, question):\n",
    "        chunks = self.retriever.retrieve(question)\n",
    "        answer = self.generator.generate_answer(chunks, question)\n",
    "        return answer, chunks"
   ]
  }
 ],
 "metadata": {
  "language_info": {
   "name": "python"
  }
 },
 "nbformat": 4,
 "nbformat_minor": 5
}
