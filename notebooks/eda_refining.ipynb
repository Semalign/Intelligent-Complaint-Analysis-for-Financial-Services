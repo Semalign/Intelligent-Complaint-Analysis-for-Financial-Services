{
 "cells": [
  {
   "cell_type": "code",
   "execution_count": null,
   "id": "7cccb03c",
   "metadata": {
    "vscode": {
     "languageId": "plaintext"
    }
   },
   "outputs": [],
   "source": [
    "import pandas as pd\n",
    "import os\n",
    "\n",
    "TARGET_PRODUCTS = {\n",
    "    \"Credit card\",\n",
    "    \"Personal loan\",\n",
    "    \"Buy Now, Pay Later (BNPL)\",\n",
    "    \"Savings account\",\n",
    "    \"Money transfers\"\n",
    "}\n",
    "\n",
    "CHUNK_SIZE = 10000\n",
    "INPUT_PATH = \"data/raw/complaints.csv\"\n",
    "OUTPUT_PATH = \"data/processed/filtered_complaints.csv\"\n",
    "\n",
    "def clean_text(text):\n",
    "    if pd.isnull(text):\n",
    "        return None\n",
    "    text = text.lower()\n",
    "    text = pd.Series(text).replace(r'[^a-zA-Z0-9\\s]', '', regex=True).values[0]\n",
    "    text = text.replace('i am writing to file a complaint', '')\n",
    "    return text.strip()\n",
    "\n",
    "def process_and_filter_chunks():\n",
    "    filtered_rows = []\n",
    "    chunk_iter = pd.read_csv(INPUT_PATH, chunksize=CHUNK_SIZE, usecols=[\n",
    "        'product', 'issue', 'consumer_complaint_narrative', 'company', 'date_received'\n",
    "    ])\n",
    "\n",
    "    for i, chunk in enumerate(chunk_iter):\n",
    "        chunk = chunk[chunk['product'].isin(TARGET_PRODUCTS)]\n",
    "        chunk = chunk.dropna(subset=['consumer_complaint_narrative'])\n",
    "        chunk['cleaned_narrative'] = chunk['consumer_complaint_narrative'].apply(clean_text)\n",
    "        filtered_rows.append(chunk[['product', 'issue', 'cleaned_narrative', 'company', 'date_received']])\n",
    "\n",
    "        print(f\"[Chunk {i+1}] Processed {len(chunk)} rows\")\n",
    "\n",
    "    df_final = pd.concat(filtered_rows, ignore_index=True)\n",
    "    os.makedirs(os.path.dirname(OUTPUT_PATH), exist_ok=True)\n",
    "    df_final.to_csv(OUTPUT_PATH, index=False)\n",
    "    print(f\"[✔] Final cleaned file saved to: {OUTPUT_PATH} — {len(df_final)} rows total\")\n",
    "\n",
    "if __name__ == \"__main__\":\n",
    "    process_and_filter_chunks()"
   ]
  },
  {
   "cell_type": "code",
   "execution_count": null,
   "id": "048f8981",
   "metadata": {
    "vscode": {
     "languageId": "plaintext"
    }
   },
   "outputs": [],
   "source": []
  }
 ],
 "metadata": {
  "language_info": {
   "name": "python"
  }
 },
 "nbformat": 4,
 "nbformat_minor": 5
}
